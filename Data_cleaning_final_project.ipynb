{
 "cells": [
  {
   "cell_type": "markdown",
   "metadata": {
    "id": "kkhH5ik6ADu3"
   },
   "source": []
  },
  {
   "cell_type": "code",
   "execution_count": null,
   "metadata": {
    "id": "1JlSCX2L0oQD"
   },
   "outputs": [],
   "source": [
    "import pandas as pd"
   ]
  },
  {
   "cell_type": "code",
   "execution_count": null,
   "metadata": {
    "colab": {
     "base_uri": "https://localhost:8080/",
     "height": 800
    },
    "id": "tckj-zw4018F",
    "outputId": "2c75af12-087a-4ebf-c280-bf722337fd3c"
   },
   "outputs": [],
   "source": [
    "#\n",
    "\n",
    "sheet_file = None\n",
    "df = None\n",
    "\n",
    "file_name = input(\"File: \")\n",
    "\n",
    "try:\n",
    "  sheet_file = open(file_name, \"r\")\n",
    "except:\n",
    "  print(f\"The following file '{file_name}' does not exist\")\n",
    "\n",
    "df = pd.read_excel(sheet_file.buffer)\n",
    "sheet_file.close()\n",
    "\n",
    "df"
   ]
  },
  {
   "cell_type": "code",
   "execution_count": null,
   "metadata": {
    "id": "qVF1iRi3rnYT"
   },
   "outputs": [],
   "source": [
    "#[Important!] Column validation. The entire project requires this to be running!\n",
    "\n",
    "def validate_column():\n",
    "  while True:\n",
    "    column = input(\"Target column: \")\n",
    "    try:\n",
    "      if not df.columns.get_loc(column) == -1:\n",
    "        return column\n",
    "    except:\n",
    "      print(f\"'{column}' does not exist\")"
   ]
  },
  {
   "cell_type": "code",
   "execution_count": null,
   "metadata": {
    "colab": {
     "base_uri": "https://localhost:8080/",
     "height": 676
    },
    "id": "ssn2rD2b1UGV",
    "outputId": "6a4dbda4-9e79-4e0d-ec4d-8c9f2544b8ab"
   },
   "outputs": [],
   "source": [
    "#Get rid of all duplicates on the entire data set\n",
    "\n",
    "df = df.drop_duplicates()\n",
    "\n",
    "df"
   ]
  },
  {
   "cell_type": "code",
   "execution_count": null,
   "metadata": {
    "colab": {
     "base_uri": "https://localhost:8080/",
     "height": 569
    },
    "id": "oHpQBOD11d5q",
    "outputId": "5c99fea4-54d8-4944-ee92-e40ad0afef8f"
   },
   "outputs": [],
   "source": [
    "#Get rid of a column entirely\n",
    "\n",
    "df = df.drop(columns = validate_column())\n",
    "\n",
    "df"
   ]
  },
  {
   "cell_type": "code",
   "execution_count": null,
   "metadata": {
    "colab": {
     "base_uri": "https://localhost:8080/",
     "height": 695
    },
    "id": "ll1N-pJ92wXO",
    "outputId": "883ea6ad-3d33-4183-b3cc-d0c8ee468bfa"
   },
   "outputs": [],
   "source": [
    "#Get rid of all the characters in a column of your choice except for letters and numbers\n",
    "\n",
    "target_column = validate_column()\n",
    "\n",
    "df[target_column] = df[target_column].replace(\"[^0-9a-zA-Z]\", \"\", regex = True)\n",
    "\n",
    "df"
   ]
  },
  {
   "cell_type": "code",
   "execution_count": null,
   "metadata": {
    "colab": {
     "base_uri": "https://localhost:8080/",
     "height": 787
    },
    "id": "iydi3tTxBCcq",
    "outputId": "9bd075dc-d9d6-4380-b7be-bdb0666d18f2"
   },
   "outputs": [],
   "source": [
    "#Split the column of your choice by putting the splitter value (like a \",\" or \"-\", for example), the amount of columns to be created and the names of the new columns\n",
    "\n",
    "target_column = validate_column()\n",
    "split_pattern = input(\"Value to be used as the splitter: \")\n",
    "column_amount = int(input(\"Amount of columns to be created: \"))\n",
    "column_names_list = []\n",
    "\n",
    "for index in range(column_amount):\n",
    "  column_name = input(f\"Column {index + 1} name: \")\n",
    "  column_names_list.append(column_name)\n",
    "\n",
    "df[column_names_list] = df[target_column].str.split(split_pattern, expand=True)\n",
    "df = df.drop(columns = target_column)\n",
    "\n",
    "df"
   ]
  },
  {
   "cell_type": "code",
   "execution_count": null,
   "metadata": {
    "colab": {
     "base_uri": "https://localhost:8080/",
     "height": 750
    },
    "id": "jwEHxcdQMaMg",
    "outputId": "6105b6ed-4b07-4732-d444-273fd29219e2"
   },
   "outputs": [],
   "source": [
    "#Rename the column of your choice\n",
    "\n",
    "target_column = validate_column()\n",
    "df = df.rename(columns = {target_column:input(\"New column name: \")})\n",
    "\n",
    "df"
   ]
  },
  {
   "cell_type": "code",
   "execution_count": null,
   "metadata": {
    "colab": {
     "base_uri": "https://localhost:8080/",
     "height": 732
    },
    "id": "LWBMyUlyJSM_",
    "outputId": "cc494574-8fdb-48d3-f7e4-5b963a0d4e44"
   },
   "outputs": [],
   "source": [
    "#Replace a value for another one on a column of your choice\n",
    "\n",
    "target_column = validate_column()\n",
    "\n",
    "df[target_column] = df[target_column].replace([input(\"Value to be replaced: \")], [input(\"New value: \")])\n",
    "\n",
    "df"
   ]
  },
  {
   "cell_type": "code",
   "execution_count": null,
   "metadata": {
    "colab": {
     "base_uri": "https://localhost:8080/",
     "height": 676
    },
    "id": "ZexFKm-wbzc-",
    "outputId": "b102295e-00ed-4b67-b677-f308a61f784a"
   },
   "outputs": [],
   "source": [
    "#Get rid of all the NaN values (even if it's written incorrectly) on the entire dataset\n",
    "\n",
    "df = df.fillna(\"\")\n",
    "df = df.replace([\"nan\", \"na\", \"n/a\", \"N/a\", \"n/A\", \"N/A\", \"NA\", \"Na\", \"NAN\"], \"\", regex = True)\n",
    "\n",
    "df"
   ]
  },
  {
   "cell_type": "code",
   "execution_count": null,
   "metadata": {
    "colab": {
     "base_uri": "https://localhost:8080/",
     "height": 588
    },
    "id": "xcC1QBRb2KBn",
    "outputId": "98487a2a-57f8-4ddd-92dc-3fca17de2be3"
   },
   "outputs": [],
   "source": [
    "#Get rid of a row on a chosen column based on a value\n",
    "\n",
    "target_column = validate_column()\n",
    "target_value = input(\"Value:\" )\n",
    "\n",
    "for current_value in df.index:\n",
    "  if df.loc[current_value, target_column] == target_value:\n",
    "    df.drop(current_value, inplace = True)\n",
    "\n",
    "df"
   ]
  },
  {
   "cell_type": "code",
   "execution_count": null,
   "metadata": {
    "colab": {
     "base_uri": "https://localhost:8080/",
     "height": 551
    },
    "id": "4SwxH-5D6FGd",
    "outputId": "d1ec9e77-274a-4070-d659-2d59dbc0322b"
   },
   "outputs": [],
   "source": [
    "#Reset the index forcing the rows to be in order\n",
    "\n",
    "df = df.reset_index(drop = True)\n",
    "\n",
    "df"
   ]
  }
 ],
 "metadata": {
  "colab": {
   "provenance": []
  },
  "kernelspec": {
   "display_name": "Python 3",
   "name": "python3"
  },
  "language_info": {
   "codemirror_mode": {
    "name": "ipython",
    "version": 3
   },
   "file_extension": ".py",
   "mimetype": "text/x-python",
   "name": "python",
   "nbconvert_exporter": "python",
   "pygments_lexer": "ipython3",
   "version": "3.13.0"
  }
 },
 "nbformat": 4,
 "nbformat_minor": 0
}
